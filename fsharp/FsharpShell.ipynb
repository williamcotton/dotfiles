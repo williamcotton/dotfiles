{
 "cells": [
  {
   "cell_type": "code",
   "execution_count": 60,
   "metadata": {
    "dotnet_interactive": {
     "language": "fsharp"
    },
    "polyglot_notebook": {
     "kernelName": "fsharp"
    },
    "vscode": {
     "languageId": "polyglot-notebook"
    }
   },
   "outputs": [],
   "source": [
    "#load \"/Users/williamcotton/dotfiles/fsharp/Utils.fsx\"\n",
    "\n",
    "open DatabaseUtils\n",
    "open Unix\n",
    "open MySql.Data.MySqlClient\n",
    "open System\n",
    "\n",
    "// let mysqlDatabase : Result<MySqlConnection, string> =\n",
    "//   Ok \"Host=localhost;Database=post_v_course;User=root\"\n",
    "//   |> connectToMysqlDatabase\n",
    "\n",
    "let displayImage base64String =\n",
    "    display(HTML(base64ToHtmlImg base64String))\n",
    "\n",
    "// let displayQuery query = \n",
    "//   mysqlDatabase\n",
    "//       |> executeMysqlQuery query\n",
    "//       |> readMysqlResults\n",
    "//       |> convertToHtml\n",
    "//       |> function \n",
    "//           | Ok html -> display(HTML html)\n",
    "//           | Error e -> display(e)\n",
    "\n",
    "// let displayPltQuery query plt =\n",
    "//   mysqlDatabase\n",
    "//       |> executeMysqlQuery query\n",
    "//       |> readMysqlResults\n",
    "//       |> convertToCsv\n",
    "//       |> zsh $\"plt '{plt}' | base64\"\n",
    "//       |> function\n",
    "//           | Ok base64Img -> displayImage base64Img\n",
    "//           | Error e -> display(e)"
   ]
  },
  {
   "cell_type": "code",
   "execution_count": 61,
   "metadata": {
    "dotnet_interactive": {
     "language": "fsharp"
    },
    "polyglot_notebook": {
     "kernelName": "fsharp"
    },
    "vscode": {
     "languageId": "polyglot-notebook"
    }
   },
   "outputs": [
    {
     "name": "stdout",
     "output_type": "stream",
     "text": [
      "pattern pattern pattern\n",
      "batter batter batter\n",
      "  \n",
      "\n"
     ]
    }
   ],
   "source": [
    "Ok \"pattern\n",
    "    runner\n",
    "    batter\"\n",
    "    |> grep \"tt\"\n",
    "    |> awk \"\"\"'{print $1 \" \" $1 \" \" $1}'\"\"\"\n",
    "    |> echo"
   ]
  },
  {
   "cell_type": "code",
   "execution_count": 62,
   "metadata": {
    "dotnet_interactive": {
     "language": "fsharp"
    },
    "polyglot_notebook": {
     "kernelName": "fsharp"
    },
    "vscode": {
     "languageId": "polyglot-notebook"
    }
   },
   "outputs": [
    {
     "data": {
      "text/html": [
       "<img src=\"data:image/png;base64,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\n",
       "\" />"
      ]
     },
     "metadata": {},
     "output_type": "display_data"
    }
   ],
   "source": [
    "Ok \"one,two,three,date\n",
    "    1,2,3,2021-01\n",
    "    4,5,9,2021-02\n",
    "    7,3,2,2021-03\"\n",
    "    |> zsh \n",
    "        \"plt '[one, two, three], date { \n",
    "            bar 10px [solid red, solid green, solid blue] \n",
    "        }' | base64\"\n",
    "    |> function\n",
    "        | Ok base64Img -> displayImage base64Img\n",
    "        | Error e -> display(e)"
   ]
  },
  {
   "cell_type": "code",
   "execution_count": 63,
   "metadata": {
    "dotnet_interactive": {
     "language": "fsharp"
    },
    "polyglot_notebook": {
     "kernelName": "fsharp"
    },
    "vscode": {
     "languageId": "polyglot-notebook"
    }
   },
   "outputs": [
    {
     "name": "stdout",
     "output_type": "stream",
     "text": [
      "Found 10\n"
     ]
    }
   ],
   "source": [
    "let array = [10; 2; 3]\n",
    "\n",
    "let num = \n",
    "  array\n",
    "    |> List.map Some \n",
    "    |> List.tryFind Option.isSome\n",
    "    \n",
    "match num with\n",
    "| Some(Some n) -> printfn \"Found %d\" n\n",
    "| Some (None)\n",
    "| None -> printfn \"None\""
   ]
  },
  {
   "cell_type": "code",
   "execution_count": 64,
   "metadata": {
    "dotnet_interactive": {
     "language": "fsharp"
    },
    "polyglot_notebook": {
     "kernelName": "fsharp"
    },
    "vscode": {
     "languageId": "polyglot-notebook"
    }
   },
   "outputs": [
    {
     "name": "stdout",
     "output_type": "stream",
     "text": [
      "Name: Steve - Age: 30\n"
     ]
    }
   ],
   "source": [
    "type Person = { Name: string; Age: int }\n",
    "\n",
    "type PersonBuilder() =\n",
    "    member __.Yield(_) = { Name = \"\"; Age = -1 }  // Initial state with default values\n",
    "\n",
    "    [<CustomOperation(\"set_name\")>]\n",
    "    member __.SetName(state: Person, name: string) : Person =\n",
    "        { state with Name = name }\n",
    "\n",
    "    [<CustomOperation(\"set_age\")>]\n",
    "    member __.SetAge(state: Person, age: int) : Person =\n",
    "        { state with Age = age }\n",
    "\n",
    "    // Bind allows chaining operations with potential state transformations.\n",
    "    member __.Bind(state: Person, f) =\n",
    "        f(state)\n",
    "\n",
    "    // Run returns the final, possibly validated, result.\n",
    "    member __.Run(state: Person) =\n",
    "        if state.Name = \"\" then Error \"Name is required\"\n",
    "        else if state.Age < 0 || state.Age > 150 then Error \"Invalid age\"\n",
    "        else Ok(state)\n",
    "\n",
    "\n",
    "let person = PersonBuilder()\n",
    "\n",
    "let steve = person {\n",
    "    set_name \"Steve\"\n",
    "    set_age 30\n",
    "}\n",
    "\n",
    "match steve with\n",
    "| Ok p -> printfn \"Name: %s - Age: %d\" p.Name p.Age\n",
    "| Error e -> printfn \"Error: %s\" e"
   ]
  },
  {
   "cell_type": "code",
   "execution_count": 68,
   "metadata": {
    "dotnet_interactive": {
     "language": "fsharp"
    },
    "polyglot_notebook": {
     "kernelName": "fsharp"
    },
    "vscode": {
     "languageId": "polyglot-notebook"
    }
   },
   "outputs": [
    {
     "name": "stdout",
     "output_type": "stream",
     "text": [
      "\n",
      "SELECT \n",
      "  title,\n",
      "  author \n",
      "FROM books \n",
      "INNER JOIN authors \n",
      "ON books.author_id = authors.id\n",
      "WHERE checked_out = 1\n",
      "AND damaged = 1\n",
      "GROUP BY author\n",
      "ORDER BY author;\n"
     ]
    }
   ],
   "source": [
    "let isCheckedOut = true\n",
    "let isAvailable = false\n",
    "let isDamaged = true\n",
    "\n",
    "let query = queryBuilder {\n",
    "    select [\"title\"; \"author\"]\n",
    "    from \"books\"\n",
    "    where [\n",
    "        if isCheckedOut then \"checked_out = 1\" else \"\"\n",
    "        if isAvailable then \"available = 1\" else \"\"\n",
    "    ]\n",
    "    conditional_where isDamaged [\"damaged = 1\"]\n",
    "    join \"INNER\" \"authors\" \"books.author_id = authors.id\"\n",
    "    group_by [\"author\"]\n",
    "    order_by [\"author\"]\n",
    "}\n",
    "\n",
    "printfn \"%s\" query"
   ]
  },
  {
   "cell_type": "code",
   "execution_count": 69,
   "metadata": {
    "dotnet_interactive": {
     "language": "fsharp"
    },
    "polyglot_notebook": {
     "kernelName": "fsharp"
    },
    "vscode": {
     "languageId": "polyglot-notebook"
    }
   },
   "outputs": [],
   "source": [
    "type TraceBuilder() =\n",
    "    member this.Bind(m, f) =\n",
    "        match m with\n",
    "        | None ->\n",
    "            printfn \"Binding with None. Exiting.\"\n",
    "        | Some a ->\n",
    "            printfn \"Binding with Some(%A). Continuing\" a\n",
    "        Option.bind f m\n",
    "\n",
    "    member this.Return(x) =\n",
    "        printfn \"Returning a unwrapped %A as an option\" x\n",
    "        Some x\n",
    "\n",
    "    member this.ReturnFrom(m) =\n",
    "        printfn \"Returning an option (%A) directly\" m\n",
    "        m\n",
    "\n",
    "// make an instance of the workflow\n",
    "let trace = new TraceBuilder()"
   ]
  },
  {
   "cell_type": "code",
   "execution_count": 70,
   "metadata": {
    "dotnet_interactive": {
     "language": "fsharp"
    },
    "polyglot_notebook": {
     "kernelName": "fsharp"
    },
    "vscode": {
     "languageId": "polyglot-notebook"
    }
   },
   "outputs": [
    {
     "name": "stdout",
     "output_type": "stream",
     "text": [
      "Returning a unwrapped 1 as an option\n",
      "Result 1: Some 1\n",
      "Returning an option (Some 2) directly\n",
      "Result 2: Some 2\n",
      "Binding with Some(1). Continuing\n",
      "Binding with Some(2). Continuing\n",
      "Returning a unwrapped 3 as an option\n",
      "Result 3: Some 3\n",
      "Binding with None. Exiting.\n",
      "Result 4: None\n"
     ]
    }
   ],
   "source": [
    "trace {\n",
    "    return 1\n",
    "    } |> printfn \"Result 1: %A\"\n",
    "\n",
    "trace {\n",
    "    return! Some 2\n",
    "    } |> printfn \"Result 2: %A\"\n",
    "\n",
    "trace {\n",
    "    let! x = Some 1\n",
    "    let! y = Some 2\n",
    "    return x + y\n",
    "    } |> printfn \"Result 3: %A\"\n",
    "\n",
    "trace {\n",
    "    let! x = None\n",
    "    let! y = Some 1\n",
    "    return x + y\n",
    "    } |> printfn \"Result 4: %A\""
   ]
  }
 ],
 "metadata": {
  "kernelspec": {
   "display_name": "tensorflow",
   "language": "python",
   "name": "tensorflow"
  },
  "language_info": {
   "name": "python",
   "version": "3.9.1"
  }
 },
 "nbformat": 4,
 "nbformat_minor": 2
}
