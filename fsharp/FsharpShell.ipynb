{
 "cells": [
  {
   "cell_type": "code",
   "execution_count": 9,
   "metadata": {
    "dotnet_interactive": {
     "language": "fsharp"
    },
    "polyglot_notebook": {
     "kernelName": "fsharp"
    },
    "vscode": {
     "languageId": "polyglot-notebook"
    }
   },
   "outputs": [],
   "source": [
    "open System\n",
    "open System.Diagnostics\n",
    "open System.IO\n",
    "open System.Threading.Tasks\n",
    "\n",
    "type CommandResult =\n",
    "  { ExitCode: int\n",
    "    StandardOutput: string\n",
    "    StandardError: string }\n",
    "\n",
    "let executeCommand executable args =\n",
    "  async {\n",
    "    let! ct = Async.CancellationToken\n",
    "\n",
    "    let startInfo = ProcessStartInfo()\n",
    "    startInfo.FileName <- executable\n",
    "    startInfo.RedirectStandardOutput <- true\n",
    "    startInfo.RedirectStandardError <- true\n",
    "    startInfo.UseShellExecute <- false\n",
    "    startInfo.CreateNoWindow <- true\n",
    "    for a in args do\n",
    "      startInfo.ArgumentList.Add(a)\n",
    "\n",
    "    use p = new Process()\n",
    "    p.StartInfo <- startInfo\n",
    "    p.Start() |> ignore\n",
    "    \n",
    "    let outTask =\n",
    "      Task.WhenAll([|\n",
    "        p.StandardOutput.ReadToEndAsync(ct);\n",
    "        p.StandardError.ReadToEndAsync(ct) |])\n",
    "\n",
    "    do! p.WaitForExitAsync(ct) |> Async.AwaitTask\n",
    "    let! out = outTask |> Async.AwaitTask\n",
    "\n",
    "    return\n",
    "      { ExitCode = p.ExitCode\n",
    "        StandardOutput = out.[0]\n",
    "        StandardError = out.[1] }\n",
    "  }\n",
    "\n",
    "let executeShellCommand command =\n",
    "    executeCommand \"/usr/bin/env\" [ \"-S\"; \"zsh\"; \"-c\"; \"source ~/.zshexec; \" + command ]\n",
    "\n",
    "let executeUnixCommand command input =\n",
    "    let fullCommand = sprintf \"echo \\\"%s\\\" | %s\" input command\n",
    "    executeShellCommand fullCommand |> Async.RunSynchronously\n",
    "\n",
    "let zsh command input = \n",
    "  match input with\n",
    "  | Ok i -> \n",
    "      let result = executeUnixCommand command i\n",
    "      if result.ExitCode = 0 then Ok result.StandardOutput else Error result.StandardError\n",
    "  | Error e -> Error e\n",
    "\n",
    "let echo = function\n",
    "  | Ok i -> printfn \"%s\" i\n",
    "  | Error e -> printfn \"%s\" e\n",
    "\n",
    "let commandFunc commandName pattern (input : Result<string, string>) =\n",
    "  match input with\n",
    "  | Ok i -> \n",
    "      let fullCommand = commandName + \" \" + pattern\n",
    "      let result = executeUnixCommand fullCommand i\n",
    "      if result.ExitCode = 0 then Ok result.StandardOutput else Error result.StandardError\n",
    "  | Error e -> Error e\n",
    "\n",
    "let grep = commandFunc \"grep\"\n",
    "let awk = commandFunc \"awk\"\n"
   ]
  },
  {
   "cell_type": "code",
   "execution_count": 3,
   "metadata": {
    "dotnet_interactive": {
     "language": "fsharp"
    },
    "polyglot_notebook": {
     "kernelName": "fsharp"
    },
    "vscode": {
     "languageId": "polyglot-notebook"
    }
   },
   "outputs": [
    {
     "name": "stdout",
     "output_type": "stream",
     "text": [
      "pattern pattern pattern\n",
      "batter batter batter\n",
      "  \n",
      "\n"
     ]
    }
   ],
   "source": [
    "Ok \"pattern\n",
    "    runner\n",
    "    batter\"\n",
    "    |> grep \"tt\"\n",
    "    |> awk \"\"\"'{print $1 \" \" $1 \" \" $1}'\"\"\"\n",
    "    |> echo"
   ]
  },
  {
   "cell_type": "code",
   "execution_count": 4,
   "metadata": {
    "dotnet_interactive": {
     "language": "fsharp"
    },
    "polyglot_notebook": {
     "kernelName": "fsharp"
    },
    "vscode": {
     "languageId": "polyglot-notebook"
    }
   },
   "outputs": [],
   "source": [
    "Ok \"one,two,three,date\n",
    "    1,2,3,2021-01\n",
    "    4,5,9,2021-02\n",
    "    7,3,2,2021-03\"\n",
    "    |> zsh \"plt '[one, two, three], date { bar 10px [solid red, solid green, solid blue] }' | imgc\"\n",
    "    |> ignore"
   ]
  }
 ],
 "metadata": {
  "kernelspec": {
   "display_name": "tensorflow",
   "language": "python",
   "name": "tensorflow"
  },
  "language_info": {
   "name": "python",
   "version": "3.9.1"
  }
 },
 "nbformat": 4,
 "nbformat_minor": 2
}
