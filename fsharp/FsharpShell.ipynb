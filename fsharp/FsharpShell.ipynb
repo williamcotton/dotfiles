{
 "cells": [
  {
   "cell_type": "code",
   "execution_count": 90,
   "metadata": {
    "dotnet_interactive": {
     "language": "fsharp"
    },
    "polyglot_notebook": {
     "kernelName": "fsharp"
    },
    "vscode": {
     "languageId": "polyglot-notebook"
    }
   },
   "outputs": [],
   "source": [
    "#load \"/Users/administrator/dotfiles/fsharp/Utils.fsx\"\n",
    "\n",
    "open DatabaseUtils\n",
    "open Unix\n",
    "open MySql.Data.MySqlClient\n",
    "open System\n",
    "\n",
    "let mysqlDatabase : Result<MySqlConnection, string> =\n",
    "  Ok \"Host=localhost;Database=post_v_course;User=root\"\n",
    "  |> connectToMysqlDatabase\n",
    "\n",
    "let displayImage base64String =\n",
    "    display(HTML(base64ToHtmlImg base64String))\n",
    "\n",
    "let displayQuery query = \n",
    "  mysqlDatabase\n",
    "      |> executeMysqlQuery query\n",
    "      |> readMysqlResults\n",
    "      |> convertToHtml\n",
    "      |> function \n",
    "          | Ok html -> display(HTML html)\n",
    "          | Error e -> display(e)\n",
    "\n",
    "let displayPltQuery query plt =\n",
    "  mysqlDatabase\n",
    "      |> executeMysqlQuery query\n",
    "      |> readMysqlResults\n",
    "      |> convertToCsv\n",
    "      |> zsh $\"plt '{plt}' | base64\"\n",
    "      |> function\n",
    "          | Ok base64Img -> displayImage base64Img\n",
    "          | Error e -> display(e)"
   ]
  },
  {
   "cell_type": "code",
   "execution_count": 2,
   "metadata": {
    "dotnet_interactive": {
     "language": "fsharp"
    },
    "polyglot_notebook": {
     "kernelName": "fsharp"
    },
    "vscode": {
     "languageId": "polyglot-notebook"
    }
   },
   "outputs": [
    {
     "name": "stdout",
     "output_type": "stream",
     "text": [
      "pattern pattern pattern\n",
      "batter batter batter\n",
      "  \n",
      "\n"
     ]
    }
   ],
   "source": [
    "Ok \"pattern\n",
    "    runner\n",
    "    batter\"\n",
    "    |> grep \"tt\"\n",
    "    |> awk \"\"\"'{print $1 \" \" $1 \" \" $1}'\"\"\"\n",
    "    |> echo"
   ]
  },
  {
   "cell_type": "code",
   "execution_count": 3,
   "metadata": {
    "dotnet_interactive": {
     "language": "fsharp"
    },
    "polyglot_notebook": {
     "kernelName": "fsharp"
    },
    "vscode": {
     "languageId": "polyglot-notebook"
    }
   },
   "outputs": [
    {
     "data": {
      "text/html": [
       "<img src=\"data:image/png;base64,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\n",
       "\" />"
      ]
     },
     "metadata": {},
     "output_type": "display_data"
    }
   ],
   "source": [
    "Ok \"one,two,three,date\n",
    "    1,2,3,2021-01\n",
    "    4,5,9,2021-02\n",
    "    7,3,2,2021-03\"\n",
    "    |> zsh \n",
    "        \"plt '[one, two, three], date { \n",
    "            bar 10px [solid red, solid green, solid blue] \n",
    "        }' | base64\"\n",
    "    |> function\n",
    "        | Ok base64Img -> displayImage base64Img\n",
    "        | Error e -> display(e)"
   ]
  },
  {
   "cell_type": "code",
   "execution_count": 9,
   "metadata": {
    "dotnet_interactive": {
     "language": "fsharp"
    },
    "polyglot_notebook": {
     "kernelName": "fsharp"
    },
    "vscode": {
     "languageId": "polyglot-notebook"
    }
   },
   "outputs": [
    {
     "name": "stdout",
     "output_type": "stream",
     "text": [
      "Found 10\n"
     ]
    }
   ],
   "source": [
    "let array = [10; 2; 3]\n",
    "\n",
    "let num = \n",
    "  array\n",
    "    |> List.map Some \n",
    "    |> List.tryFind Option.isSome\n",
    "    \n",
    "match num with\n",
    "| Some(Some n) -> printfn \"Found %d\" n\n",
    "| Some (None)\n",
    "| None -> printfn \"None\""
   ]
  },
  {
   "cell_type": "code",
   "execution_count": 28,
   "metadata": {
    "dotnet_interactive": {
     "language": "fsharp"
    },
    "polyglot_notebook": {
     "kernelName": "fsharp"
    },
    "vscode": {
     "languageId": "polyglot-notebook"
    }
   },
   "outputs": [
    {
     "name": "stdout",
     "output_type": "stream",
     "text": [
      "Name: Steve - Age: 30\n"
     ]
    }
   ],
   "source": [
    "type Person = { Name: string; Age: int }\n",
    "\n",
    "type PersonBuilder() =\n",
    "    member __.Yield(_) = { Name = \"\"; Age = -1 }  // Initial state with default values\n",
    "\n",
    "    [<CustomOperation(\"set_name\")>]\n",
    "    member __.SetName(state: Person, name: string) : Person =\n",
    "        { state with Name = name }\n",
    "\n",
    "    [<CustomOperation(\"set_age\")>]\n",
    "    member __.SetAge(state: Person, age: int) : Person =\n",
    "        { state with Age = age }\n",
    "\n",
    "    // Bind allows chaining operations with potential state transformations.\n",
    "    member __.Bind(state: Person, f) =\n",
    "        f(state)\n",
    "\n",
    "    // Run returns the final, possibly validated, result.\n",
    "    member __.Run(state: Person) =\n",
    "        if state.Name = \"\" then Error \"Name is required\"\n",
    "        else if state.Age < 0 || state.Age > 150 then Error \"Invalid age\"\n",
    "        else Ok(state)\n",
    "\n",
    "\n",
    "let person = PersonBuilder()\n",
    "\n",
    "let steve = person {\n",
    "    set_name \"Steve\"\n",
    "    set_age 30\n",
    "}\n",
    "\n",
    "match steve with\n",
    "| Ok p -> printfn \"Name: %s - Age: %d\" p.Name p.Age\n",
    "| Error e -> printfn \"Error: %s\" e"
   ]
  },
  {
   "cell_type": "code",
   "execution_count": 89,
   "metadata": {
    "dotnet_interactive": {
     "language": "fsharp"
    },
    "polyglot_notebook": {
     "kernelName": "fsharp"
    },
    "vscode": {
     "languageId": "polyglot-notebook"
    }
   },
   "outputs": [
    {
     "name": "stdout",
     "output_type": "stream",
     "text": [
      "\n",
      "SELECT \n",
      "  title,\n",
      "  author \n",
      "FROM books \n",
      "INNER JOIN authors \n",
      "ON books.author_id = authors.id\n",
      "WHERE checked_out = 1\n",
      "AND available = 1\n",
      "GROUP BY author\n",
      "ORDER BY author;\n"
     ]
    }
   ],
   "source": [
    "let isCheckedOut = true\n",
    "let isAvailable = true\n",
    "\n",
    "let query = queryBuilder {\n",
    "    select [\"title\"; \"author\"]\n",
    "    from \"books\"\n",
    "    where [\n",
    "        if isCheckedOut then \"checked_out = 1\" else \"\"\n",
    "        if isAvailable then \"available = 1\" else \"\"\n",
    "    ]\n",
    "    join \"INNER\" \"authors\" \"books.author_id = authors.id\"\n",
    "    group_by [\"author\"]\n",
    "    order_by [\"author\"]\n",
    "}\n",
    "\n",
    "printfn \"%s\" query"
   ]
  },
  {
   "cell_type": "code",
   "execution_count": 16,
   "metadata": {
    "dotnet_interactive": {
     "language": "fsharp"
    },
    "polyglot_notebook": {
     "kernelName": "fsharp"
    },
    "vscode": {
     "languageId": "polyglot-notebook"
    }
   },
   "outputs": [],
   "source": []
  }
 ],
 "metadata": {
  "kernelspec": {
   "display_name": "tensorflow",
   "language": "python",
   "name": "tensorflow"
  },
  "language_info": {
   "name": "python",
   "version": "3.9.1"
  }
 },
 "nbformat": 4,
 "nbformat_minor": 2
}
